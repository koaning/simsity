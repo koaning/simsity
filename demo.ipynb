{
 "cells": [
  {
   "cell_type": "code",
   "execution_count": 16,
   "id": "5d5d4487-c4ad-41fe-92a4-33bcbefc5fc0",
   "metadata": {
    "collapsed": true,
    "jupyter": {
     "outputs_hidden": true
    },
    "tags": []
   },
   "outputs": [
    {
     "name": "stdout",
     "output_type": "stream",
     "text": [
      "Collecting datasets\n",
      "  Downloading datasets-2.8.0-py3-none-any.whl (452 kB)\n",
      "\u001b[K     |████████████████████████████████| 452 kB 1.3 MB/s eta 0:00:01\n",
      "\u001b[?25hCollecting pyarrow>=6.0.0\n",
      "  Using cached pyarrow-10.0.1-cp38-cp38-manylinux_2_17_x86_64.manylinux2014_x86_64.whl (36.0 MB)\n",
      "Requirement already satisfied: tqdm>=4.62.1 in ./venv/lib/python3.8/site-packages (from datasets) (4.64.1)\n",
      "Collecting dill<0.3.7\n",
      "  Using cached dill-0.3.6-py3-none-any.whl (110 kB)\n",
      "Requirement already satisfied: requests>=2.19.0 in ./venv/lib/python3.8/site-packages (from datasets) (2.28.1)\n",
      "Collecting xxhash\n",
      "  Using cached xxhash-3.1.0-cp38-cp38-manylinux_2_17_x86_64.manylinux2014_x86_64.whl (212 kB)\n",
      "Collecting responses<0.19\n",
      "  Using cached responses-0.18.0-py3-none-any.whl (38 kB)\n",
      "Collecting multiprocess\n",
      "  Using cached multiprocess-0.70.14-py38-none-any.whl (132 kB)\n",
      "Collecting aiohttp\n",
      "  Using cached aiohttp-3.8.3-cp38-cp38-manylinux_2_17_x86_64.manylinux2014_x86_64.whl (1.0 MB)\n",
      "Requirement already satisfied: numpy>=1.17 in ./venv/lib/python3.8/site-packages (from datasets) (1.23.5)\n",
      "Requirement already satisfied: pyyaml>=5.1 in ./venv/lib/python3.8/site-packages (from datasets) (6.0)\n",
      "Collecting fsspec[http]>=2021.11.1\n",
      "  Using cached fsspec-2022.11.0-py3-none-any.whl (139 kB)\n",
      "Requirement already satisfied: pandas in ./venv/lib/python3.8/site-packages (from datasets) (1.5.2)\n",
      "Requirement already satisfied: huggingface-hub<1.0.0,>=0.2.0 in ./venv/lib/python3.8/site-packages (from datasets) (0.11.1)\n",
      "Requirement already satisfied: packaging in ./venv/lib/python3.8/site-packages (from datasets) (22.0)\n",
      "Requirement already satisfied: charset-normalizer<3,>=2 in ./venv/lib/python3.8/site-packages (from requests>=2.19.0->datasets) (2.1.1)\n",
      "Requirement already satisfied: idna<4,>=2.5 in ./venv/lib/python3.8/site-packages (from requests>=2.19.0->datasets) (3.4)\n",
      "Requirement already satisfied: certifi>=2017.4.17 in ./venv/lib/python3.8/site-packages (from requests>=2.19.0->datasets) (2022.12.7)\n",
      "Requirement already satisfied: urllib3<1.27,>=1.21.1 in ./venv/lib/python3.8/site-packages (from requests>=2.19.0->datasets) (1.26.13)\n",
      "Requirement already satisfied: attrs>=17.3.0 in ./venv/lib/python3.8/site-packages (from aiohttp->datasets) (22.1.0)\n",
      "Collecting multidict<7.0,>=4.5\n",
      "  Using cached multidict-6.0.3-cp38-cp38-manylinux_2_17_x86_64.manylinux2014_x86_64.whl (121 kB)\n",
      "Collecting async-timeout<5.0,>=4.0.0a3\n",
      "  Using cached async_timeout-4.0.2-py3-none-any.whl (5.8 kB)\n",
      "Collecting yarl<2.0,>=1.0\n",
      "  Using cached yarl-1.8.2-cp38-cp38-manylinux_2_17_x86_64.manylinux2014_x86_64.whl (262 kB)\n",
      "Collecting aiosignal>=1.1.2\n",
      "  Using cached aiosignal-1.3.1-py3-none-any.whl (7.6 kB)\n",
      "Collecting frozenlist>=1.1.1\n",
      "  Using cached frozenlist-1.3.3-cp38-cp38-manylinux_2_5_x86_64.manylinux1_x86_64.manylinux_2_17_x86_64.manylinux2014_x86_64.whl (161 kB)\n",
      "Requirement already satisfied: pytz>=2020.1 in ./venv/lib/python3.8/site-packages (from pandas->datasets) (2022.7)\n",
      "Requirement already satisfied: python-dateutil>=2.8.1 in ./venv/lib/python3.8/site-packages (from pandas->datasets) (2.8.2)\n",
      "Requirement already satisfied: filelock in ./venv/lib/python3.8/site-packages (from huggingface-hub<1.0.0,>=0.2.0->datasets) (3.8.2)\n",
      "Requirement already satisfied: typing-extensions>=3.7.4.3 in ./venv/lib/python3.8/site-packages (from huggingface-hub<1.0.0,>=0.2.0->datasets) (4.4.0)\n",
      "Requirement already satisfied: six>=1.5 in ./venv/lib/python3.8/site-packages (from python-dateutil>=2.8.1->pandas->datasets) (1.16.0)\n",
      "Installing collected packages: pyarrow, dill, xxhash, responses, multiprocess, multidict, async-timeout, yarl, frozenlist, aiosignal, aiohttp, fsspec, datasets\n",
      "Successfully installed aiohttp-3.8.3 aiosignal-1.3.1 async-timeout-4.0.2 datasets-2.8.0 dill-0.3.6 frozenlist-1.3.3 fsspec-2022.11.0 multidict-6.0.3 multiprocess-0.70.14 pyarrow-10.0.1 responses-0.18.0 xxhash-3.1.0 yarl-1.8.2\n",
      "Note: you may need to restart the kernel to use updated packages.\n"
     ]
    }
   ],
   "source": [
    "%pip install simsity datasets \"embetter[sentence-tfm]\""
   ]
  },
  {
   "cell_type": "code",
   "execution_count": 62,
   "id": "a7c7dff7-192e-4da7-9ff9-b510063ccf16",
   "metadata": {},
   "outputs": [],
   "source": [
    "from simsity.datasets import fetch_recipes\n",
    "\n",
    "df_recipes = fetch_recipes()"
   ]
  },
  {
   "cell_type": "code",
   "execution_count": 68,
   "id": "892b4fad-22a4-47e5-bc5f-788cd39476ae",
   "metadata": {},
   "outputs": [
    {
     "name": "stdout",
     "output_type": "stream",
     "text": [
      "| text                                        |\n",
      "|:--------------------------------------------|\n",
      "| pork chop noodle soup                       |\n",
      "| 5 ingredient almond cake with fresh berries |\n",
      "| shrimp cakes                                |\n",
      "| chili roasted okra                          |\n",
      "| slow cooker chicken chili                   |\n"
     ]
    }
   ],
   "source": [
    "print(df_recipes.head().to_markdown(index=False))"
   ]
  },
  {
   "cell_type": "code",
   "execution_count": 77,
   "id": "427301ce-2c5a-4153-a7f6-d12e30db48a6",
   "metadata": {},
   "outputs": [],
   "source": [
    "recipes = df_recipes['text']"
   ]
  },
  {
   "cell_type": "code",
   "execution_count": 78,
   "id": "85fffa52-403d-4858-bd36-7b94876a9832",
   "metadata": {},
   "outputs": [],
   "source": [
    "from simsity.service import Service\n",
    "from simsity.indexer import AnnoyIndexer\n",
    "\n",
    "from embetter.text import SentenceEncoder"
   ]
  },
  {
   "cell_type": "code",
   "execution_count": 81,
   "id": "3c681fdb-dbd1-41d0-b4bc-0674f39796e8",
   "metadata": {},
   "outputs": [],
   "source": [
    "# The encoder defines how we encode the data going in.\n",
    "from embetter.grab import ColumnGrabber\n",
    "from embetter.text import SentenceEncoder\n",
    "\n",
    "encoder = SentenceEncoder()"
   ]
  },
  {
   "cell_type": "code",
   "execution_count": 82,
   "id": "16c3500d-9c61-4614-8dde-8c214f81039a",
   "metadata": {},
   "outputs": [
    {
     "data": {
      "text/plain": [
       "<simsity.service.Service at 0x7f62438f2160>"
      ]
     },
     "execution_count": 82,
     "metadata": {},
     "output_type": "execute_result"
    }
   ],
   "source": [
    "from simsity.service import Service\n",
    "from simsity.indexer import AnnoyIndexer\n",
    "\n",
    "# Create an indexer \n",
    "indexer = AnnoyIndexer()\n",
    "\n",
    "# The service combines the two into a single object.\n",
    "sbert_service = Service(indexer=indexer, encoder=encoder)\n",
    "\n",
    "# We can now build the service using this data.\n",
    "sbert_service.index(recipes)"
   ]
  },
  {
   "cell_type": "code",
   "execution_count": 83,
   "id": "c0469a80-b6f7-475a-b944-65cbd6c52416",
   "metadata": {},
   "outputs": [],
   "source": [
    "# And use it\n",
    "idx, dists = sbert_service.query(\"meat\", n_neighbors=10)"
   ]
  },
  {
   "cell_type": "code",
   "execution_count": 86,
   "id": "46307cc1-7a41-4e95-8395-6634e7d2bd94",
   "metadata": {},
   "outputs": [
    {
     "name": "stdout",
     "output_type": "stream",
     "text": [
      "| recipe                    |    dists |\n",
      "|:--------------------------|---------:|\n",
      "| roast beef                | 0.840229 |\n",
      "| beef stew                 | 0.851083 |\n",
      "| buffalo chicken meatballs | 0.853497 |\n",
      "| meat feast pizza          | 0.873777 |\n",
      "| chicken marsala meatballs | 0.874075 |\n",
      "| meat dim sum              | 0.886897 |\n",
      "| moroccan meatballs        | 0.892015 |\n",
      "| meatball sub sandwich     | 0.899369 |\n",
      "| italian meatballs         | 0.899428 |\n",
      "| juicy italian meatballs   | 0.906681 |\n"
     ]
    }
   ],
   "source": [
    "print(pd.DataFrame({\"recipe\": recipes}).iloc[idx].assign(dists=dists).to_markdown(index=False))"
   ]
  },
  {
   "cell_type": "code",
   "execution_count": 87,
   "id": "ed7e78a2-8943-4d02-84f2-7525e2967d32",
   "metadata": {},
   "outputs": [],
   "source": [
    "from simsity.datasets import fetch_voters\n",
    "\n",
    "df = fetch_voters()"
   ]
  },
  {
   "cell_type": "code",
   "execution_count": 91,
   "id": "91a22288-c325-4b97-ae0c-bc72d44180f7",
   "metadata": {},
   "outputs": [
    {
     "data": {
      "text/html": [
       "<div>\n",
       "<style scoped>\n",
       "    .dataframe tbody tr th:only-of-type {\n",
       "        vertical-align: middle;\n",
       "    }\n",
       "\n",
       "    .dataframe tbody tr th {\n",
       "        vertical-align: top;\n",
       "    }\n",
       "\n",
       "    .dataframe thead th {\n",
       "        text-align: right;\n",
       "    }\n",
       "</style>\n",
       "<table border=\"1\" class=\"dataframe\">\n",
       "  <thead>\n",
       "    <tr style=\"text-align: right;\">\n",
       "      <th></th>\n",
       "      <th>name</th>\n",
       "      <th>suburb</th>\n",
       "      <th>postcode</th>\n",
       "    </tr>\n",
       "  </thead>\n",
       "  <tbody>\n",
       "    <tr>\n",
       "      <th>0</th>\n",
       "      <td>khimerc thomas</td>\n",
       "      <td>charlotte</td>\n",
       "      <td>2826g</td>\n",
       "    </tr>\n",
       "    <tr>\n",
       "      <th>1</th>\n",
       "      <td>lucille richardst</td>\n",
       "      <td>kannapolis</td>\n",
       "      <td>28o81</td>\n",
       "    </tr>\n",
       "    <tr>\n",
       "      <th>2</th>\n",
       "      <td>reb3cca bauerboand</td>\n",
       "      <td>raleigh</td>\n",
       "      <td>27615</td>\n",
       "    </tr>\n",
       "    <tr>\n",
       "      <th>3</th>\n",
       "      <td>maleda mccloud</td>\n",
       "      <td>goldsboro</td>\n",
       "      <td>2753o</td>\n",
       "    </tr>\n",
       "    <tr>\n",
       "      <th>4</th>\n",
       "      <td>belida stovall</td>\n",
       "      <td>morrisvill</td>\n",
       "      <td>27560</td>\n",
       "    </tr>\n",
       "    <tr>\n",
       "      <th>...</th>\n",
       "      <td>...</td>\n",
       "      <td>...</td>\n",
       "      <td>...</td>\n",
       "    </tr>\n",
       "    <tr>\n",
       "      <th>1741</th>\n",
       "      <td>shelley rogera</td>\n",
       "      <td>lawsonville</td>\n",
       "      <td>27622</td>\n",
       "    </tr>\n",
       "    <tr>\n",
       "      <th>1742</th>\n",
       "      <td>scotbt kelly</td>\n",
       "      <td>sanford</td>\n",
       "      <td>27331</td>\n",
       "    </tr>\n",
       "    <tr>\n",
       "      <th>1743</th>\n",
       "      <td>margaret youngblood</td>\n",
       "      <td>winstom salem</td>\n",
       "      <td>2710|</td>\n",
       "    </tr>\n",
       "    <tr>\n",
       "      <th>1744</th>\n",
       "      <td>erick mercier</td>\n",
       "      <td>raleigah</td>\n",
       "      <td>2761o</td>\n",
       "    </tr>\n",
       "    <tr>\n",
       "      <th>1745</th>\n",
       "      <td>jozeph brown</td>\n",
       "      <td>chariotte</td>\n",
       "      <td>28273</td>\n",
       "    </tr>\n",
       "  </tbody>\n",
       "</table>\n",
       "<p>1746 rows × 3 columns</p>\n",
       "</div>"
      ],
      "text/plain": [
       "                     name         suburb postcode\n",
       "0          khimerc thomas      charlotte    2826g\n",
       "1       lucille richardst     kannapolis    28o81\n",
       "2      reb3cca bauerboand        raleigh    27615\n",
       "3          maleda mccloud      goldsboro    2753o\n",
       "4          belida stovall     morrisvill    27560\n",
       "...                   ...            ...      ...\n",
       "1741       shelley rogera    lawsonville    27622\n",
       "1742         scotbt kelly        sanford    27331\n",
       "1743  margaret youngblood  winstom salem    2710|\n",
       "1744        erick mercier       raleigah    2761o\n",
       "1745         jozeph brown      chariotte    28273\n",
       "\n",
       "[1746 rows x 3 columns]"
      ]
     },
     "execution_count": 91,
     "metadata": {},
     "output_type": "execute_result"
    }
   ],
   "source": [
    "df"
   ]
  },
  {
   "cell_type": "code",
   "execution_count": null,
   "id": "5f5c30fe-d5f9-4f66-9800-c5a3a9ff242a",
   "metadata": {},
   "outputs": [],
   "source": [
    "indexer = AnnoyIndexer(n_trees=50)\n",
    "encoder = GapEncoder().fit(df)"
   ]
  },
  {
   "cell_type": "code",
   "execution_count": null,
   "id": "c58f3029-5c49-4511-9ee8-77b28cdcbfa6",
   "metadata": {},
   "outputs": [],
   "source": [
    "from dirty_cat import GapEncoder\n",
    "\n",
    "service = Service(indexer=indexer, encoder=encoder)\n",
    "\n",
    "service.index(df)"
   ]
  },
  {
   "cell_type": "code",
   "execution_count": null,
   "id": "8d5fef3d-3055-4e5f-851b-9e994c50c884",
   "metadata": {},
   "outputs": [],
   "source": [
    "dict_in = dict(name=\"khimerc thmas\", suburb=\"chariotte\", postcode=\"28273\")\n",
    "q_in = pd.DataFrame([dict_in]).iloc[0]\n",
    "\n",
    "idx, dists = service.query(q_in, n_neighbors=10)\n",
    "print(df.iloc[idx].assign(dist=dists).to_markdown(index=False))"
   ]
  },
  {
   "cell_type": "code",
   "execution_count": null,
   "id": "bbb1fa36-1205-440e-86b1-821259890312",
   "metadata": {},
   "outputs": [],
   "source": []
  }
 ],
 "metadata": {
  "kernelspec": {
   "display_name": "Python 3 (ipykernel)",
   "language": "python",
   "name": "python3"
  },
  "language_info": {
   "codemirror_mode": {
    "name": "ipython",
    "version": 3
   },
   "file_extension": ".py",
   "mimetype": "text/x-python",
   "name": "python",
   "nbconvert_exporter": "python",
   "pygments_lexer": "ipython3",
   "version": "3.8.6"
  }
 },
 "nbformat": 4,
 "nbformat_minor": 5
}
